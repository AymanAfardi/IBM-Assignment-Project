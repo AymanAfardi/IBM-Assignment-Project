{
  "metadata": {
    "kernelspec": {
      "name": "xpython",
      "display_name": "Python 3.13 (XPython)",
      "language": "python"
    },
    "language_info": {
      "file_extension": ".py",
      "mimetype": "text/x-python",
      "name": "python",
      "version": "3.13.1"
    }
  },
  "nbformat_minor": 5,
  "nbformat": 4,
  "cells": [
    {
      "id": "ecb2efb9-d3d1-45bb-a072-513d6e01a078",
      "cell_type": "markdown",
      "source": "# Data Science Tools and Ecosystem",
      "metadata": {}
    },
    {
      "id": "fc8108c6-1c98-417c-b919-ac29f6200cc9",
      "cell_type": "markdown",
      "source": "## Author\nAyman Afardi",
      "metadata": {}
    },
    {
      "id": "b13c6d67-2b07-4669-8f82-f505298a181a",
      "cell_type": "markdown",
      "source": "In this notebook, Data Science Tools and Ecosystem are summarized.\n**Objectives:**\n- Create a markdown cell to list data science languages\n- Create a markdown cell to list data science libraries\n- Create a markdown cell with a table of Data Science tools\n- Create a markdown cell introducing arithmetic expression examples\n\n \nSome of the popular languages that Data Scientists use are:\n1. R\n2. python\n3. SQL\n4. Java",
      "metadata": {}
    },
    {
      "id": "9bd208a9-7244-4b2f-a16a-69ba5b33bb46",
      "cell_type": "markdown",
      "source": "Some of the commonly used Python libraries used by Data Scientists include:\n1. Pandas\n2. NumPy\n3. Kiras\n4. Matplotlib\n5. Seaborn",
      "metadata": {}
    },
    {
      "id": "96ecf0ae-41d8-4863-9475-1328237792e8",
      "cell_type": "markdown",
      "source": "| Data Science Tools |\n|--------------------|\n| Jupyter Notebook   |\n| RStudio            |\n| Apache Zeppelin    |\n\n",
      "metadata": {}
    },
    {
      "id": "0d54fb01-710f-489b-8aeb-2be7c5bf7aa5",
      "cell_type": "markdown",
      "source": "### Below are a few examples of evaluating arithmetic expressions in Python",
      "metadata": {}
    },
    {
      "id": "087cccaa-2307-4988-a795-4d72a4f27b10",
      "cell_type": "code",
      "source": "#This a simple arithmetic expression to mutiply then add integers.\n\n(3*4)+5",
      "metadata": {
        "trusted": true
      },
      "outputs": [
        {
          "execution_count": 3,
          "output_type": "execute_result",
          "data": {
            "text/plain": "17"
          },
          "metadata": {}
        }
      ],
      "execution_count": 3
    },
    {
      "id": "df89172c-7b31-45f0-87ba-7a7ac90d9a2f",
      "cell_type": "code",
      "source": "#This will convert 200 minutes to hours by diving by 60\n200/60",
      "metadata": {
        "trusted": true
      },
      "outputs": [
        {
          "execution_count": 4,
          "output_type": "execute_result",
          "data": {
            "text/plain": "3.3333333333333335"
          },
          "metadata": {}
        }
      ],
      "execution_count": 4
    }
  ]
}